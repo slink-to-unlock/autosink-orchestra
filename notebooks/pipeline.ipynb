{
 "cells": [
  {
   "cell_type": "markdown",
   "metadata": {},
   "source": [
    "# Install Requirements"
   ]
  },
  {
   "cell_type": "code",
   "execution_count": null,
   "metadata": {},
   "outputs": [],
   "source": [
    "# %pip install autosink-data-preparation\n",
    "# %pip install autosink-data-validation\n",
    "# %pip install autosink-model-evaluation\n",
    "# %pip install autosink-model-training\n",
    "# %pip install autosink-model-validation"
   ]
  },
  {
   "cell_type": "code",
   "execution_count": null,
   "metadata": {},
   "outputs": [],
   "source": [
    "%pip install git+https://github.com/slink-to-unlock/autosink-data-preparation.git\n",
    "%pip install git+https://github.com/slink-to-unlock/autosink-data-validation.git\n",
    "%pip install git+https://github.com/slink-to-unlock/autosink-model-evaluation.git\n",
    "%pip install git+https://github.com/slink-to-unlock/autosink-model-training.git\n",
    "%pip install git+https://github.com/slink-to-unlock/autosink-model-validation.git\n",
    "%pip install git+https://github.com/slink-to-unlock/sparse-to-dense.git"
   ]
  },
  {
   "cell_type": "markdown",
   "metadata": {},
   "source": [
    "# Data Extraction"
   ]
  },
  {
   "cell_type": "code",
   "execution_count": 5,
   "metadata": {},
   "outputs": [
    {
     "data": {
      "text/plain": [
       "'/content/mnt/MyDrive/dev/autowash_dataset/data/v5'"
      ]
     },
     "execution_count": 5,
     "metadata": {},
     "output_type": "execute_result"
    }
   ],
   "source": [
    "import os\n",
    "from autosink_data_elt.path.autosink import AutosinkPath\n",
    "\n",
    "path = AutosinkPath(data_lake_rel_dir=os.path.join('dev', 'autowash_dataset', 'data'))\n",
    "data_dir = path.get_dataset_root_dir('v3')\n",
    "data_dir"
   ]
  },
  {
   "cell_type": "code",
   "execution_count": null,
   "metadata": {},
   "outputs": [],
   "source": [
    "from google.colab import drive\n",
    "\n",
    "drive.mount(path.mount_dir)"
   ]
  },
  {
   "cell_type": "code",
   "execution_count": null,
   "metadata": {},
   "outputs": [],
   "source": [
    "from urllib import request\n",
    "PORT = 8501\n",
    "\n",
    "# run in background\n",
    "!nohup python3 -m sparse_to_dense.cli.web --port {PORT} > logs.txt &\n",
    "!nohup npx localtunnel --port {PORT} > logs-localtunnel.txt &\n",
    "\n",
    "print(\"My IP (Password):\", request.urlopen('https://ipv4.icanhazip.com').read().decode('utf8').strip(\"\\n\"))\n",
    "!sleep 5 && cat logs-localtunnel.txt && cat logs.txt"
   ]
  },
  {
   "cell_type": "markdown",
   "metadata": {},
   "source": [
    "- 데이터 레이블링이 필요한 상황이라면 위 셀 실행 결과에 출력되는 링크를 여세요.\n",
    "- 링크의 빈칸에 `My IP (Password)` 값을 복사해 넣으세요.\n",
    "- `Autosink` 프로젝트의 레이블러를 Google COLAB 에서 실행시킬 수 있습니다."
   ]
  },
  {
   "cell_type": "markdown",
   "metadata": {},
   "source": [
    "# Data Preparation"
   ]
  },
  {
   "cell_type": "markdown",
   "metadata": {},
   "source": [
    "# Data validation"
   ]
  },
  {
   "cell_type": "markdown",
   "metadata": {},
   "source": [
    "# Model Training"
   ]
  },
  {
   "cell_type": "markdown",
   "metadata": {},
   "source": [
    "# Model Evaluation"
   ]
  },
  {
   "cell_type": "markdown",
   "metadata": {},
   "source": [
    "# Model Validation"
   ]
  }
 ],
 "metadata": {
  "kernelspec": {
   "display_name": "autosink-orchestra",
   "language": "python",
   "name": "python3"
  },
  "language_info": {
   "codemirror_mode": {
    "name": "ipython",
    "version": 3
   },
   "file_extension": ".py",
   "mimetype": "text/x-python",
   "name": "python",
   "nbconvert_exporter": "python",
   "pygments_lexer": "ipython3",
   "version": "3.11.6"
  }
 },
 "nbformat": 4,
 "nbformat_minor": 2
}
